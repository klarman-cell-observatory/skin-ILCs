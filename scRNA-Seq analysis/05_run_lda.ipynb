{
 "cells": [
  {
   "cell_type": "markdown",
   "metadata": {},
   "source": [
    "# Infer LDA weights"
   ]
  },
  {
   "cell_type": "markdown",
   "metadata": {},
   "source": [
    "This takes a long time and quite a bit of memory (>50GB) and time (>7 days, runs on a single core). Our results are available in `CountClust_precomputed`, so you might want to skip this step."
   ]
  },
  {
   "cell_type": "code",
   "execution_count": 1,
   "metadata": {},
   "outputs": [
    {
     "name": "stderr",
     "output_type": "stream",
     "text": [
      "Loading required package: ggplot2\n"
     ]
    }
   ],
   "source": [
    "library(Seurat)\n",
    "library(CountClust)"
   ]
  },
  {
   "cell_type": "markdown",
   "metadata": {},
   "source": [
    "## Main function"
   ]
  },
  {
   "cell_type": "code",
   "execution_count": 2,
   "metadata": {},
   "outputs": [],
   "source": [
    "topicModeling <- function(mat, n = 16, tol = 0.1, save.path) {\n",
    "  \n",
    "  # set parameters for topic modeling \n",
    "  n.topics <- as.numeric(n)\n",
    "  tolerance <- as.numeric(tol)\n",
    "  \n",
    "  # create directories to save the results in \n",
    "  sub.dir <- paste0(n.topics, \"topics_tol\", tolerance)\n",
    "  dir.create(file.path(save.path, sub.dir), recursive = T)\n",
    "  \n",
    "  FitGoM(t(as.matrix(GetAssayData(mat))), K = n.topics, tol = tolerance,\n",
    "         path_rda = file.path(save.path, sub.dir, paste0('FitGoM_k', n.topics, '_tol', tolerance, '.rda')))\n",
    "}"
   ]
  },
  {
   "cell_type": "markdown",
   "metadata": {},
   "source": [
    "## Parameters"
   ]
  },
  {
   "cell_type": "code",
   "execution_count": 3,
   "metadata": {},
   "outputs": [
    {
     "name": "stderr",
     "output_type": "stream",
     "text": [
      "Warning message in dir.create(out.dir, recursive = T):\n",
      "“'./data/CountClust' already exists”"
     ]
    }
   ],
   "source": [
    "subsample = T # Sub-sample for testing\n",
    "data.dir <- file.path('.', 'data')\n",
    "mat.fname <- file.path(data.dir, 'raw_filtered_genes.h5ad')\n",
    "out.dir <- file.path(data.dir, 'CountClust')\n",
    "ks = c(4, 6, 8, 10, 11, 13, 15, 16, 17, 18, 19, 20, 22)\n",
    "tol <- 0.1\n",
    "\n",
    "dir.create(out.dir, recursive = T)"
   ]
  },
  {
   "cell_type": "markdown",
   "metadata": {},
   "source": [
    "## Load data"
   ]
  },
  {
   "cell_type": "code",
   "execution_count": 4,
   "metadata": {},
   "outputs": [
    {
     "name": "stderr",
     "output_type": "stream",
     "text": [
      "Pulling expression matrices and metadata\n",
      "Data is unscaled\n",
      "Creating assay object\n",
      "Storing X as raw and raw as counts\n",
      "No variable feature expression found in h5ad file\n",
      "No dimensional reduction information found\n",
      "Assembling Seurat object\n",
      "No nearest-neighbor graph\n",
      "Reading norm_data into new assay, putting data into data\n"
     ]
    }
   ],
   "source": [
    "mat <- ReadH5AD(mat.fname)\n",
    "if (subsample) {\n",
    "  mat <- subset(mat, cells = sample(Cells(mat), 1000), features = sample(rownames(mat), 1000))\n",
    "}"
   ]
  },
  {
   "cell_type": "markdown",
   "metadata": {},
   "source": [
    "## Run"
   ]
  },
  {
   "cell_type": "code",
   "execution_count": 5,
   "metadata": {},
   "outputs": [
    {
     "name": "stderr",
     "output_type": "stream",
     "text": [
      "Warning message in dir.create(file.path(save.path, sub.dir), recursive = T):\n",
      "“'./data/CountClust/4topics_tol0.1' already exists”options not specified: switching to default BIC, other choice is BF for Bayes factor\n",
      "Fitting a Grade of Membership model\n",
      "            (Taddy M., AISTATS 2012, JMLR 22,\n",
      "            http://proceedings.mlr.press/v22/taddy12/taddy12.pdf)\n"
     ]
    },
    {
     "name": "stdout",
     "output_type": "stream",
     "text": [
      "\n",
      "Estimating on a 1000 document collection.\n",
      "Fit and Bayes Factor Estimation for K = 4\n",
      "log posterior increase: 226.7, 509.6, done.\n",
      "log BF( 4 ) = 2144.8\n"
     ]
    },
    {
     "name": "stderr",
     "output_type": "stream",
     "text": [
      "Warning message in dir.create(file.path(save.path, sub.dir), recursive = T):\n",
      "“'./data/CountClust/6topics_tol0.1' already exists”options not specified: switching to default BIC, other choice is BF for Bayes factor\n",
      "Fitting a Grade of Membership model\n",
      "            (Taddy M., AISTATS 2012, JMLR 22,\n",
      "            http://proceedings.mlr.press/v22/taddy12/taddy12.pdf)\n"
     ]
    },
    {
     "name": "stdout",
     "output_type": "stream",
     "text": [
      "\n",
      "Estimating on a 1000 document collection.\n",
      "Fit and Bayes Factor Estimation for K = 6\n",
      "log posterior increase: 370.3, 222.1, 145.5, 74.7, done.\n",
      "log BF( 6 ) = 1119.06\n"
     ]
    },
    {
     "name": "stderr",
     "output_type": "stream",
     "text": [
      "Warning message in dir.create(file.path(save.path, sub.dir), recursive = T):\n",
      "“'./data/CountClust/8topics_tol0.1' already exists”options not specified: switching to default BIC, other choice is BF for Bayes factor\n",
      "Fitting a Grade of Membership model\n",
      "            (Taddy M., AISTATS 2012, JMLR 22,\n",
      "            http://proceedings.mlr.press/v22/taddy12/taddy12.pdf)\n"
     ]
    },
    {
     "name": "stdout",
     "output_type": "stream",
     "text": [
      "\n",
      "Estimating on a 1000 document collection.\n",
      "Fit and Bayes Factor Estimation for K = 8\n",
      "log posterior increase: 451.5, 298.8, 98.3, 71.8, 74, 81.3, done.\n",
      "log BF( 8 ) = 1533.41\n"
     ]
    },
    {
     "name": "stderr",
     "output_type": "stream",
     "text": [
      "Warning message in dir.create(file.path(save.path, sub.dir), recursive = T):\n",
      "“'./data/CountClust/10topics_tol0.1' already exists”options not specified: switching to default BIC, other choice is BF for Bayes factor\n",
      "Fitting a Grade of Membership model\n",
      "            (Taddy M., AISTATS 2012, JMLR 22,\n",
      "            http://proceedings.mlr.press/v22/taddy12/taddy12.pdf)\n"
     ]
    },
    {
     "name": "stdout",
     "output_type": "stream",
     "text": [
      "\n",
      "Estimating on a 1000 document collection.\n",
      "Fit and Bayes Factor Estimation for K = 10\n",
      "log posterior increase: 896.5, 272.1, 102.7, 63.5, 49.7, 45, done.\n",
      "log BF( 10 ) = 314.14\n"
     ]
    },
    {
     "name": "stderr",
     "output_type": "stream",
     "text": [
      "Warning message in dir.create(file.path(save.path, sub.dir), recursive = T):\n",
      "“'./data/CountClust/11topics_tol0.1' already exists”options not specified: switching to default BIC, other choice is BF for Bayes factor\n",
      "Fitting a Grade of Membership model\n",
      "            (Taddy M., AISTATS 2012, JMLR 22,\n",
      "            http://proceedings.mlr.press/v22/taddy12/taddy12.pdf)\n"
     ]
    },
    {
     "name": "stdout",
     "output_type": "stream",
     "text": [
      "\n",
      "Estimating on a 1000 document collection.\n",
      "Fit and Bayes Factor Estimation for K = 11\n",
      "log posterior increase: 908, 249.2, 113.2, 86.2, 66.9, 42.9, 37.3, done.\n",
      "log BF( 11 ) = 27.99\n"
     ]
    },
    {
     "name": "stderr",
     "output_type": "stream",
     "text": [
      "Warning message in dir.create(file.path(save.path, sub.dir), recursive = T):\n",
      "“'./data/CountClust/13topics_tol0.1' already exists”options not specified: switching to default BIC, other choice is BF for Bayes factor\n",
      "Fitting a Grade of Membership model\n",
      "            (Taddy M., AISTATS 2012, JMLR 22,\n",
      "            http://proceedings.mlr.press/v22/taddy12/taddy12.pdf)\n"
     ]
    },
    {
     "name": "stdout",
     "output_type": "stream",
     "text": [
      "\n",
      "Estimating on a 1000 document collection.\n",
      "Fit and Bayes Factor Estimation for K = 13\n",
      "log posterior increase: 951.9, 266.6, 135.3, 83, 51.2, 37.1, 29.8, done.\n",
      "log BF( 13 ) = -1833.16\n"
     ]
    },
    {
     "name": "stderr",
     "output_type": "stream",
     "text": [
      "Warning message in dir.create(file.path(save.path, sub.dir), recursive = T):\n",
      "“'./data/CountClust/15topics_tol0.1' already exists”options not specified: switching to default BIC, other choice is BF for Bayes factor\n",
      "Fitting a Grade of Membership model\n",
      "            (Taddy M., AISTATS 2012, JMLR 22,\n",
      "            http://proceedings.mlr.press/v22/taddy12/taddy12.pdf)\n"
     ]
    },
    {
     "name": "stdout",
     "output_type": "stream",
     "text": [
      "\n",
      "Estimating on a 1000 document collection.\n",
      "Fit and Bayes Factor Estimation for K = 15\n",
      "log posterior increase: 985.2, 263.5, 162, 88.9, 52.7, 36.8, 25, done.\n",
      "log BF( 15 ) = -3771.85\n"
     ]
    },
    {
     "name": "stderr",
     "output_type": "stream",
     "text": [
      "Warning message in dir.create(file.path(save.path, sub.dir), recursive = T):\n",
      "“'./data/CountClust/16topics_tol0.1' already exists”options not specified: switching to default BIC, other choice is BF for Bayes factor\n",
      "Fitting a Grade of Membership model\n",
      "            (Taddy M., AISTATS 2012, JMLR 22,\n",
      "            http://proceedings.mlr.press/v22/taddy12/taddy12.pdf)\n"
     ]
    },
    {
     "name": "stdout",
     "output_type": "stream",
     "text": [
      "\n",
      "Estimating on a 1000 document collection.\n",
      "Fit and Bayes Factor Estimation for K = 16\n",
      "log posterior increase: 1042.8, 282, 155.8, 79.4, 73, 38.7, 22.1, 16.4, done.\n",
      "log BF( 16 ) = -6213.29\n"
     ]
    },
    {
     "name": "stderr",
     "output_type": "stream",
     "text": [
      "Warning message in dir.create(file.path(save.path, sub.dir), recursive = T):\n",
      "“'./data/CountClust/17topics_tol0.1' already exists”options not specified: switching to default BIC, other choice is BF for Bayes factor\n",
      "Fitting a Grade of Membership model\n",
      "            (Taddy M., AISTATS 2012, JMLR 22,\n",
      "            http://proceedings.mlr.press/v22/taddy12/taddy12.pdf)\n"
     ]
    },
    {
     "name": "stdout",
     "output_type": "stream",
     "text": [
      "\n",
      "Estimating on a 1000 document collection.\n",
      "Fit and Bayes Factor Estimation for K = 17\n",
      "log posterior increase: 1112.2, 246.3, 139.1, 244.1, 48.8, 50.7, 40.4, 29.7, 22.3, 14.9, done.\n",
      "log BF( 17 ) = -6587.98\n"
     ]
    },
    {
     "name": "stderr",
     "output_type": "stream",
     "text": [
      "Warning message in dir.create(file.path(save.path, sub.dir), recursive = T):\n",
      "“'./data/CountClust/18topics_tol0.1' already exists”options not specified: switching to default BIC, other choice is BF for Bayes factor\n",
      "Fitting a Grade of Membership model\n",
      "            (Taddy M., AISTATS 2012, JMLR 22,\n",
      "            http://proceedings.mlr.press/v22/taddy12/taddy12.pdf)\n"
     ]
    },
    {
     "name": "stdout",
     "output_type": "stream",
     "text": [
      "\n",
      "Estimating on a 1000 document collection.\n",
      "Fit and Bayes Factor Estimation for K = 18\n",
      "log posterior increase: 1248.6, 240.9, 123.7, 71.5, 47.9, 37.7, 36.4, 34.1, 27, 18.7, done.\n",
      "log BF( 18 ) = -7626.76\n"
     ]
    },
    {
     "name": "stderr",
     "output_type": "stream",
     "text": [
      "Warning message in dir.create(file.path(save.path, sub.dir), recursive = T):\n",
      "“'./data/CountClust/19topics_tol0.1' already exists”options not specified: switching to default BIC, other choice is BF for Bayes factor\n",
      "Fitting a Grade of Membership model\n",
      "            (Taddy M., AISTATS 2012, JMLR 22,\n",
      "            http://proceedings.mlr.press/v22/taddy12/taddy12.pdf)\n"
     ]
    },
    {
     "name": "stdout",
     "output_type": "stream",
     "text": [
      "\n",
      "Estimating on a 1000 document collection.\n",
      "Fit and Bayes Factor Estimation for K = 19\n",
      "log posterior increase: 1359.3, 233.8, 108.7, 64.6, 46.1, 35.4, 86.7, 33.1, 25.9, 21.4, 14.2, 12.7, done.\n",
      "log BF( 19 ) = -9916.29\n"
     ]
    },
    {
     "name": "stderr",
     "output_type": "stream",
     "text": [
      "Warning message in dir.create(file.path(save.path, sub.dir), recursive = T):\n",
      "“'./data/CountClust/20topics_tol0.1' already exists”options not specified: switching to default BIC, other choice is BF for Bayes factor\n",
      "Fitting a Grade of Membership model\n",
      "            (Taddy M., AISTATS 2012, JMLR 22,\n",
      "            http://proceedings.mlr.press/v22/taddy12/taddy12.pdf)\n"
     ]
    },
    {
     "name": "stdout",
     "output_type": "stream",
     "text": [
      "\n",
      "Estimating on a 1000 document collection.\n",
      "Fit and Bayes Factor Estimation for K = 20\n",
      "log posterior increase: 1391.9, 250.6, 121, 83.7, 56.1, 36.6, 26.2, 29.7, 14, 14, 12, done.\n",
      "log BF( 20 ) = -10636.85\n"
     ]
    },
    {
     "name": "stderr",
     "output_type": "stream",
     "text": [
      "Warning message in dir.create(file.path(save.path, sub.dir), recursive = T):\n",
      "“'./data/CountClust/22topics_tol0.1' already exists”options not specified: switching to default BIC, other choice is BF for Bayes factor\n",
      "Fitting a Grade of Membership model\n",
      "            (Taddy M., AISTATS 2012, JMLR 22,\n",
      "            http://proceedings.mlr.press/v22/taddy12/taddy12.pdf)\n"
     ]
    },
    {
     "name": "stdout",
     "output_type": "stream",
     "text": [
      "\n",
      "Estimating on a 1000 document collection.\n",
      "Fit and Bayes Factor Estimation for K = 22\n",
      "log posterior increase: 1463.1, 260.2, 115, 57, 54.2, 41.9, 33.7, 22.8, 30.5, 19.4, 15.6, 12.5, 10.5, done.\n",
      "log BF( 22 ) = -13135.81\n"
     ]
    }
   ],
   "source": [
    "for (k in ks) {\n",
    "  topicModeling(mat, k, tol, out.dir)\n",
    "}"
   ]
  },
  {
   "cell_type": "markdown",
   "metadata": {},
   "source": [
    "## Extract information and BIC"
   ]
  },
  {
   "cell_type": "markdown",
   "metadata": {},
   "source": [
    "Here, we save the results into csv files to make them easier to work with in Python."
   ]
  },
  {
   "cell_type": "code",
   "execution_count": 6,
   "metadata": {},
   "outputs": [],
   "source": [
    "models <- list()\n",
    "i <- 1\n",
    "for (k in ks) {\n",
    "    k_dir <- paste0(out.dir, \"/\", k, \"topics_tol\", tol)\n",
    "    rda_fname <- paste0(k_dir, \"/\", \"FitGoM_k\", k, \"_tol\", tol , \".rda\")\n",
    "    \n",
    "    load(rda_fname)\n",
    "\n",
    "    models[[i]] <- Topic_clus\n",
    "    \n",
    "    usage <- as.data.frame(Topic_clus$omega)\n",
    "    colnames(usage) <- paste0(\"lda_\", colnames(usage))\n",
    "\n",
    "    theta <- as.data.frame(Topic_clus$theta)\n",
    "    colnames(theta) <- paste0(\"lda_\", colnames(theta))\n",
    "\n",
    "    write.csv(usage, file.path(k_dir, \"usage.csv\"))\n",
    "    write.csv(theta, file.path(k_dir, \"theta.csv\"))\n",
    "\n",
    "    top_features_min <- ExtractTopFeatures(theta, top_features = 200, shared = T, method = \"poisson\", options = \"min\")\n",
    "    write.csv(top_features_min, file.path(k_dir, \"score_min.csv\"))\n",
    "    \n",
    "    i <- i + 1\n",
    "}\n",
    "\n",
    "counts <- t(as.matrix(GetAssayData(mat)))\n",
    "\n",
    "out <- compGoM(counts, models)\n",
    "\n",
    "n.topics <- ks\n",
    "names(out) <- paste0(\"topic_\", n.topics)\n",
    "bic.plot <- sapply(names(out), function(x) out[[x]]$BIC)\n",
    "bic <- data.frame(BIC=bic.plot, k=n.topics)\n",
    "\n",
    "write.csv(bic, file.path(out.dir, \"bic.csv\"))"
   ]
  },
  {
   "cell_type": "code",
   "execution_count": null,
   "metadata": {},
   "outputs": [],
   "source": []
  }
 ],
 "metadata": {
  "@webio": {
   "lastCommId": "2996a1476cb14000905da38d7fd98426",
   "lastKernelId": "4ce5ffdc-4f36-4940-b5d1-f82c8e4b702d"
  },
  "kernelspec": {
   "display_name": "R pso_ilc",
   "language": "R",
   "name": "ir"
  },
  "language_info": {
   "codemirror_mode": "r",
   "file_extension": ".r",
   "mimetype": "text/x-r-source",
   "name": "R",
   "pygments_lexer": "r",
   "version": "3.6.3"
  }
 },
 "nbformat": 4,
 "nbformat_minor": 2
}
