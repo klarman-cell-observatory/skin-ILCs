{
 "cells": [
  {
   "cell_type": "markdown",
   "metadata": {},
   "source": [
    "# Filtering for LDA"
   ]
  },
  {
   "cell_type": "markdown",
   "metadata": {},
   "source": [
    "Filter out any genes that occur in more than 97% of cells."
   ]
  },
  {
   "cell_type": "code",
   "execution_count": 1,
   "metadata": {},
   "outputs": [],
   "source": [
    "import scanpy as sc\n",
    "import numpy as np\n",
    "import os"
   ]
  },
  {
   "cell_type": "code",
   "execution_count": 2,
   "metadata": {},
   "outputs": [],
   "source": [
    "data_dir = os.path.join('.', 'data')\n",
    "adata_fname = os.path.join(data_dir, 'raw.h5ad')\n",
    "out_fname = os.path.join(data_dir, 'raw_filtered_genes.h5ad')"
   ]
  },
  {
   "cell_type": "code",
   "execution_count": 3,
   "metadata": {},
   "outputs": [],
   "source": [
    "adata = sc.read(adata_fname)\n",
    "per_cell_occurrences = np.sum(adata.X != 0, axis = 0)\n",
    "adata_filtered = adata[:, np.array(per_cell_occurrences / adata.shape[0] <= 0.97).ravel()]"
   ]
  },
  {
   "cell_type": "code",
   "execution_count": 4,
   "metadata": {},
   "outputs": [],
   "source": [
    "adata_filtered.write(out_fname)"
   ]
  },
  {
   "cell_type": "code",
   "execution_count": null,
   "metadata": {},
   "outputs": [],
   "source": []
  }
 ],
 "metadata": {
  "@webio": {
   "lastCommId": "ed7a3c7ca90342ab8eb7d38b98f739c7",
   "lastKernelId": "bead8740-f32e-40f1-898e-c8257656c612"
  },
  "kernelspec": {
   "display_name": "Python [conda env:pso_ilc_conda]",
   "language": "python",
   "name": "conda-env-pso_ilc_conda-py"
  },
  "language_info": {
   "codemirror_mode": {
    "name": "ipython",
    "version": 3
   },
   "file_extension": ".py",
   "mimetype": "text/x-python",
   "name": "python",
   "nbconvert_exporter": "python",
   "pygments_lexer": "ipython3",
   "version": "3.7.3"
  }
 },
 "nbformat": 4,
 "nbformat_minor": 2
}
