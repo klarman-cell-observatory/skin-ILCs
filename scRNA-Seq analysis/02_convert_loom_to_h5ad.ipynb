{
 "cells": [
  {
   "cell_type": "markdown",
   "metadata": {},
   "source": [
    "# Convert Loom to h5ad"
   ]
  },
  {
   "cell_type": "code",
   "execution_count": 1,
   "metadata": {},
   "outputs": [],
   "source": [
    "import scanpy as sc\n",
    "import loompy\n",
    "import os\n",
    "import re"
   ]
  },
  {
   "cell_type": "code",
   "execution_count": 2,
   "metadata": {},
   "outputs": [],
   "source": [
    "data_dir = os.path.join('.', 'data')"
   ]
  },
  {
   "cell_type": "code",
   "execution_count": 3,
   "metadata": {},
   "outputs": [
    {
     "name": "stderr",
     "output_type": "stream",
     "text": [
      "... storing 'ClusterName' as categorical\n",
      "... storing 'orig_ident' as categorical\n",
      "... storing 'timept' as categorical\n"
     ]
    }
   ],
   "source": [
    "in_fname = os.path.join(data_dir, 'initial_conversion', 'raw.loom')\n",
    "out_fname = os.path.join(data_dir, 'raw.h5ad')\n",
    "adata = sc.read_loom(in_fname, sparse = True)\n",
    "adata.write(out_fname)"
   ]
  },
  {
   "cell_type": "code",
   "execution_count": 4,
   "metadata": {},
   "outputs": [
    {
     "name": "stderr",
     "output_type": "stream",
     "text": [
      "/data/Development/Work/PsoriasisILC/pso_ilc_conda_test/lib/python3.7/site-packages/loompy/loom_layer.py:123: RuntimeWarning: invalid value encountered in not_equal\n",
      "  nonzeros = np.where(vals != 0)\n",
      "... storing 'ClusterName' as categorical\n",
      "... storing 'orig_ident' as categorical\n",
      "... storing 'timept' as categorical\n"
     ]
    }
   ],
   "source": [
    "in_fname = os.path.join(data_dir, 'initial_conversion', 'sct.loom')\n",
    "out_fname = os.path.join(data_dir, 'sct.h5ad')\n",
    "adata = sc.read_loom(in_fname, sparse = True)\n",
    "adata.layers['count_data'] = adata.X\n",
    "adata.write(out_fname)"
   ]
  },
  {
   "cell_type": "markdown",
   "metadata": {},
   "source": [
    "## Rename, save variable genes"
   ]
  },
  {
   "cell_type": "code",
   "execution_count": 5,
   "metadata": {},
   "outputs": [],
   "source": [
    "data_dir = os.path.join('.', 'data')\n",
    "out_fname = os.path.join(data_dir, 'sct.h5ad')\n",
    "adata = sc.read(out_fname)"
   ]
  },
  {
   "cell_type": "markdown",
   "metadata": {},
   "source": [
    "Rename Cre and add day column"
   ]
  },
  {
   "cell_type": "code",
   "execution_count": 6,
   "metadata": {},
   "outputs": [],
   "source": [
    "adata.var.rename(index = {'cre' : 'Cre (Il5)'}, inplace = True)\n",
    "adata.obs['day'] = [re.sub(r'Timept(\\d)\\.[ACTG]{16}', r'\\1', s) for s in adata.obs.index]\n",
    "adata.obs['day'] = adata.obs['day'].astype('category')"
   ]
  },
  {
   "cell_type": "code",
   "execution_count": 7,
   "metadata": {},
   "outputs": [],
   "source": [
    "adata.write(out_fname)"
   ]
  },
  {
   "cell_type": "code",
   "execution_count": 8,
   "metadata": {},
   "outputs": [],
   "source": [
    "adata_var = adata[:,adata.var['sct_variable'] == 1]\n",
    "adata_var.write(os.path.join(data_dir, 'sct_variable.h5ad'))"
   ]
  }
 ],
 "metadata": {
  "@webio": {
   "lastCommId": "02dcd8dffea8472989ed72b0fc2189fa",
   "lastKernelId": "b1a07998-dd61-4460-bb38-5354fae0e712"
  },
  "celltoolbar": "Initialization Cell",
  "kernelspec": {
   "display_name": "Conda pso_ilc",
   "language": "python",
   "name": "myenv"
  },
  "language_info": {
   "codemirror_mode": {
    "name": "ipython",
    "version": 3
   },
   "file_extension": ".py",
   "mimetype": "text/x-python",
   "name": "python",
   "nbconvert_exporter": "python",
   "pygments_lexer": "ipython3",
   "version": "3.7.3"
  }
 },
 "nbformat": 4,
 "nbformat_minor": 2
}
