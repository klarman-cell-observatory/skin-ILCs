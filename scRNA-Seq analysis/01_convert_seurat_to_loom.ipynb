{
 "cells": [
  {
   "cell_type": "markdown",
   "metadata": {},
   "source": [
    "# Convert Seurat files to Loom"
   ]
  },
  {
   "cell_type": "code",
   "execution_count": 1,
   "metadata": {},
   "outputs": [],
   "source": [
    "library(Seurat)"
   ]
  },
  {
   "cell_type": "markdown",
   "metadata": {},
   "source": [
    "We need to install the development version of loom, restart the notebook afterwards."
   ]
  },
  {
   "cell_type": "code",
   "execution_count": 2,
   "metadata": {},
   "outputs": [
    {
     "name": "stderr",
     "output_type": "stream",
     "text": [
      "Skipping install of 'loomR' from a github remote, the SHA1 (1eca16a6) has not changed since last install.\n",
      "  Use `force = TRUE` to force installation\n"
     ]
    }
   ],
   "source": [
    "devtools::install_github(repo = 'mojaveazure/loomR', ref = 'develop', upgrade_dependencies = FALSE)"
   ]
  },
  {
   "cell_type": "markdown",
   "metadata": {},
   "source": [
    "Path to the counts file after initial quality control:"
   ]
  },
  {
   "cell_type": "code",
   "execution_count": 3,
   "metadata": {},
   "outputs": [],
   "source": [
    "all.counts.fname <- file.path(\".\", \"data\", \"RDS\", \"ilc.scTransf_pctmito.190710.QC_191018.FP_QC_191018.RDS\")"
   ]
  },
  {
   "cell_type": "markdown",
   "metadata": {},
   "source": [
    "Read count file"
   ]
  },
  {
   "cell_type": "code",
   "execution_count": 4,
   "metadata": {},
   "outputs": [],
   "source": [
    "seurat.obj <- readRDS(all.counts.fname)"
   ]
  },
  {
   "cell_type": "markdown",
   "metadata": {},
   "source": [
    "Fill in meta.features for RNA assay, otherwise we cannot save, see https://github.com/mojaveazure/loomR/issues/36."
   ]
  },
  {
   "cell_type": "code",
   "execution_count": 5,
   "metadata": {},
   "outputs": [],
   "source": [
    "seurat.obj <- Seurat::FindVariableFeatures(object = seurat.obj, assay = \"RNA\")"
   ]
  },
  {
   "cell_type": "code",
   "execution_count": 6,
   "metadata": {},
   "outputs": [
    {
     "name": "stderr",
     "output_type": "stream",
     "text": [
      "Warning message in dir.create(save.folder, recursive = TRUE):\n",
      "“'./data/initial_conversion' already exists”"
     ]
    }
   ],
   "source": [
    "save.folder <- file.path('.', 'data', 'initial_conversion')\n",
    "dir.create(save.folder, recursive = TRUE)"
   ]
  },
  {
   "cell_type": "code",
   "execution_count": 7,
   "metadata": {},
   "outputs": [
    {
     "name": "stderr",
     "output_type": "stream",
     "text": [
      "Transposing input data: loom file will show input columns (cells) as rows and input rows (features) as columns\n",
      "This is to maintain compatibility with other loom tools\n"
     ]
    },
    {
     "name": "stdout",
     "output_type": "stream",
     "text": [
      "  |======================================================================| 100%\n"
     ]
    },
    {
     "name": "stderr",
     "output_type": "stream",
     "text": [
      "Adding: CellID\n",
      "Adding: Gene\n",
      "Adding a layer to norm_data (layer 1 of 1)\n"
     ]
    },
    {
     "name": "stdout",
     "output_type": "stream",
     "text": [
      "  |======================================================================| 100%\n"
     ]
    },
    {
     "name": "stderr",
     "output_type": "stream",
     "text": [
      "Adding: sct_detection_rate\n",
      "Adding: sct_gmean\n",
      "Adding: sct_variance\n",
      "Adding: sct_residual_mean\n",
      "Adding: sct_residual_variance\n",
      "Adding: sct_variable\n",
      "Adding: Selected\n",
      "Adding: orig_ident\n",
      "Adding: nCount_RNA\n",
      "Adding: nFeature_RNA\n",
      "Adding: timept\n",
      "Adding: pct_mt\n",
      "Adding: percent_mt\n",
      "Adding: nCount_SCT\n",
      "Adding: nFeature_SCT\n",
      "Adding: ClusterID\n",
      "Adding: ClusterName\n",
      "Adding scaled data matrix to /layers/scale_data\n",
      "Adding a layer to scale_data (layer 1 of 1)\n"
     ]
    },
    {
     "name": "stdout",
     "output_type": "stream",
     "text": [
      "  |======================================================================| 100%\n"
     ]
    },
    {
     "name": "stderr",
     "output_type": "stream",
     "text": [
      "Adding dimensional reduction information for pca\n",
      "Adding cell embedding information for pca\n",
      "Adding feature loading information for pca\n",
      "Adding dimensional reduction information for umap\n",
      "Adding cell embedding information for umap\n",
      "No feature loading information for umap\n"
     ]
    }
   ],
   "source": [
    "seurat.obj.ad <- Seurat::as.loom(seurat.obj, assay = \"SCT\", filename = file.path(save.folder, \"sct.loom\"))"
   ]
  },
  {
   "cell_type": "code",
   "execution_count": 8,
   "metadata": {},
   "outputs": [
    {
     "name": "stderr",
     "output_type": "stream",
     "text": [
      "Transposing input data: loom file will show input columns (cells) as rows and input rows (features) as columns\n",
      "This is to maintain compatibility with other loom tools\n"
     ]
    },
    {
     "name": "stdout",
     "output_type": "stream",
     "text": [
      "  |======================================================================| 100%\n"
     ]
    },
    {
     "name": "stderr",
     "output_type": "stream",
     "text": [
      "Adding: CellID\n",
      "Adding: Gene\n",
      "Adding a layer to norm_data (layer 1 of 1)\n"
     ]
    },
    {
     "name": "stdout",
     "output_type": "stream",
     "text": [
      "  |======================================================================| 100%\n"
     ]
    },
    {
     "name": "stderr",
     "output_type": "stream",
     "text": [
      "Adding: vst_mean\n",
      "Adding: vst_variance\n",
      "Adding: vst_variance_expected\n",
      "Adding: vst_variance_standardized\n",
      "Adding: vst_variable\n",
      "Adding: Selected\n",
      "Adding: orig_ident\n",
      "Adding: nCount_RNA\n",
      "Adding: nFeature_RNA\n",
      "Adding: timept\n",
      "Adding: pct_mt\n",
      "Adding: percent_mt\n",
      "Adding: nCount_SCT\n",
      "Adding: nFeature_SCT\n",
      "Adding: ClusterID\n",
      "Adding: ClusterName\n",
      "No scaled data present, not adding scaled data, dimensional reduction information, or neighbor graphs\n"
     ]
    }
   ],
   "source": [
    "seurat.obj.ad <- Seurat::as.loom(seurat.obj, assay = \"RNA\", filename = file.path(save.folder, \"raw.loom\"))"
   ]
  },
  {
   "cell_type": "code",
   "execution_count": null,
   "metadata": {},
   "outputs": [],
   "source": []
  }
 ],
 "metadata": {
  "@webio": {
   "lastCommId": null,
   "lastKernelId": null
  },
  "kernelspec": {
   "display_name": "R pso_ilc",
   "language": "R",
   "name": "ir"
  },
  "language_info": {
   "codemirror_mode": "r",
   "file_extension": ".r",
   "mimetype": "text/x-r-source",
   "name": "R",
   "pygments_lexer": "r",
   "version": "3.6.3"
  }
 },
 "nbformat": 4,
 "nbformat_minor": 2
}
